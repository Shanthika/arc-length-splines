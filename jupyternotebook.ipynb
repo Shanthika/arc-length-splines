{
 "cells": [
  {
   "cell_type": "code",
   "execution_count": 28,
   "metadata": {},
   "outputs": [
    {
     "name": "stdout",
     "output_type": "stream",
     "text": [
      "Requirement already satisfied: pyqtgraph in /Library/Frameworks/Python.framework/Versions/3.12/lib/python3.12/site-packages (0.13.7)\n",
      "Requirement already satisfied: numpy>=1.22.0 in /Library/Frameworks/Python.framework/Versions/3.12/lib/python3.12/site-packages (from pyqtgraph) (1.26.4)\n",
      "Requirement already satisfied: PySide6 in /Library/Frameworks/Python.framework/Versions/3.12/lib/python3.12/site-packages (6.7.2)\n",
      "Requirement already satisfied: shiboken6==6.7.2 in /Library/Frameworks/Python.framework/Versions/3.12/lib/python3.12/site-packages (from PySide6) (6.7.2)\n",
      "Requirement already satisfied: PySide6-Essentials==6.7.2 in /Library/Frameworks/Python.framework/Versions/3.12/lib/python3.12/site-packages (from PySide6) (6.7.2)\n",
      "Requirement already satisfied: PySide6-Addons==6.7.2 in /Library/Frameworks/Python.framework/Versions/3.12/lib/python3.12/site-packages (from PySide6) (6.7.2)\n",
      "Requirement already satisfied: PyQt6 in /Library/Frameworks/Python.framework/Versions/3.12/lib/python3.12/site-packages (6.7.0)\n",
      "Requirement already satisfied: PyQt6-sip<14,>=13.6 in /Library/Frameworks/Python.framework/Versions/3.12/lib/python3.12/site-packages (from PyQt6) (13.8.0)\n",
      "Requirement already satisfied: PyQt6-Qt6<6.8.0,>=6.7.0 in /Library/Frameworks/Python.framework/Versions/3.12/lib/python3.12/site-packages (from PyQt6) (6.7.2)\n",
      "Collecting PyQt5\n",
      "  Downloading PyQt5-5.15.10-cp37-abi3-macosx_10_13_x86_64.whl.metadata (2.1 kB)\n",
      "Collecting PyQt5-sip<13,>=12.13 (from PyQt5)\n",
      "  Downloading PyQt5_sip-12.15.0-cp312-cp312-macosx_10_9_universal2.whl.metadata (421 bytes)\n",
      "Collecting PyQt5-Qt5>=5.15.2 (from PyQt5)\n",
      "  Downloading PyQt5_Qt5-5.15.14-py3-none-macosx_10_13_x86_64.whl.metadata (536 bytes)\n",
      "Downloading PyQt5-5.15.10-cp37-abi3-macosx_10_13_x86_64.whl (7.0 MB)\n",
      "\u001b[2K   \u001b[90m━━━━━━━━━━━━━━━━━━━━━━━━━━━━━━━━━━━━━━━━\u001b[0m \u001b[32m7.0/7.0 MB\u001b[0m \u001b[31m17.7 MB/s\u001b[0m eta \u001b[36m0:00:00\u001b[0m00:01\u001b[0m00:01\u001b[0m\n",
      "\u001b[?25hDownloading PyQt5_Qt5-5.15.14-py3-none-macosx_10_13_x86_64.whl (38.8 MB)\n",
      "\u001b[2K   \u001b[90m━━━━━━━━━━━━━━━━━━━━━━━━━━━━━━━━━━━━━━━━\u001b[0m \u001b[32m38.8/38.8 MB\u001b[0m \u001b[31m31.3 MB/s\u001b[0m eta \u001b[36m0:00:00\u001b[0m00:01\u001b[0m00:01\u001b[0m\n",
      "\u001b[?25hDownloading PyQt5_sip-12.15.0-cp312-cp312-macosx_10_9_universal2.whl (124 kB)\n",
      "\u001b[2K   \u001b[90m━━━━━━━━━━━━━━━━━━━━━━━━━━━━━━━━━━━━━━━━\u001b[0m \u001b[32m124.3/124.3 kB\u001b[0m \u001b[31m4.5 MB/s\u001b[0m eta \u001b[36m0:00:00\u001b[0m\n",
      "\u001b[?25hInstalling collected packages: PyQt5-Qt5, PyQt5-sip, PyQt5\n",
      "Successfully installed PyQt5-5.15.10 PyQt5-Qt5-5.15.14 PyQt5-sip-12.15.0\n"
     ]
    }
   ],
   "source": [
    "!pip install pyqtgraph\n",
    "!pip install PySide6\n",
    "!pip install PyQt6\n",
    "!pip install PyQt5"
   ]
  },
  {
   "cell_type": "code",
   "execution_count": 4,
   "metadata": {},
   "outputs": [],
   "source": [
    "import numpy as np\n",
    "import sys\n",
    "from PyQt5.QtWidgets import QApplication, QWidget\n",
    "from PyQt5.QtGui import QPainter, QPen, QBrush\n",
    "from PyQt5.QtCore import Qt, QPoint\n",
    "from IPython import get_ipython"
   ]
  },
  {
   "cell_type": "code",
   "execution_count": 5,
   "metadata": {},
   "outputs": [],
   "source": [
    "def cubic_hermite(P0, P1, M0, M1, t):\n",
    "    \"\"\"\n",
    "    Given a pair of points and a pair of vectors, compute the cubic Hermite\n",
    "    polynomial they define and evaluate it at time t.\n",
    "    \"\"\"\n",
    "    h00 = 2*t**3 - 3*t**2 + 1\n",
    "    h10 = t**3 - 2*t**2 + t\n",
    "    h01 = -2*t**3 + 3*t**2\n",
    "    h11 = t**3 - t**2\n",
    "    return h00 * P0 + h10 * M0 + h01 * P1 + h11 * M1\n",
    "def estimate_derivatives_catmull_rom(P):\n",
    "    \"\"\"\n",
    "    Assuming P are the points of a closed curve, use the Catmull-Rom\n",
    "    technique to estimate the derivative at each point of P by looking at its\n",
    "    neighbors.\n",
    "    \"\"\"\n",
    "    derivatives = np.zeros_like(P, dtype=float)\n",
    "    derivatives[1:-1] = (P[:-2] - P[2:]) / 2\n",
    "    derivatives[-1] = (P[-2]-P[0])/2\n",
    "    derivatives[0] = (P[-1] - P[1])/2\n",
    "    return derivatives\n",
    "def catmull_rom_interpolation(P, t):\n",
    "    \"\"\"\n",
    "    P is a set of points, which we assume are corresponded to equally spaced\n",
    "    times between 0 and 1. t is a scalar value between 0 and 1. Return the\n",
    "    value of the catmull-rom interpolation of P at time t. You may use\n",
    "    cubic_hermite.\n",
    "    \"\"\"\n",
    "    derivatives=estimate_derivatives_catmull_rom(P)\n",
    "    n = P.shape[0]-1  # Integer division to get the number of segments    nt=n*t;\n",
    "    nt=n*t;\n",
    "    nt,seg=np.modf(nt)\n",
    "    seg=seg.astype(int)\n",
    "    p0=P[seg-1]\n",
    "    p1=P[seg]\n",
    "    m0=derivatives[seg-1]\n",
    "    m1=derivatives[seg]\n",
    "    return cubic_hermite(p0,p1,m0,m1,nt);\n",
    "    pass\n"
   ]
  },
  {
   "cell_type": "code",
   "execution_count": 26,
   "metadata": {},
   "outputs": [],
   "source": [
    "\n",
    "\"\"\"randompoints = np.array([[25,25],\n",
    "                        [25,100],\n",
    "                        [45, 125]])\n",
    "newlist = []\n",
    "\n",
    "for i in th:\n",
    "    #print(catmull_rom_interpolation(randompoints, (1-i)))\n",
    "    newvertex = catmull_rom_interpolation(randompoints, (1-i))\n",
    "    newlist.append(QPoint(newvertex[0].astype(int), newvertex[1].astype(int)))\"\"\"\n",
    "    \n",
    "\n",
    "def curvepositions(Qplist):\n",
    "    points = []\n",
    "    #points = np.empty((0,2), dtype=int)\n",
    "    newlist = []\n",
    "    th = np.linspace(0, 1, 1000)\n",
    "    for i in Qplist:\n",
    "        points.append([i.x(), i.y()])\n",
    "    array = np.array([points])\n",
    "    for i in th:\n",
    "        newvertex = catmull_rom_interpolation(array, (1-i))\n",
    "        newlist.append(QPoint(newvertex[0].astype(int), newvertex[1].astype(int)))\n",
    "    return newlist \n"
   ]
  },
  {
   "cell_type": "code",
   "execution_count": null,
   "metadata": {},
   "outputs": [
    {
     "ename": "IndexError",
     "evalue": "index -2 is out of bounds for axis 0 with size 1",
     "output_type": "error",
     "traceback": [
      "\u001b[0;31m---------------------------------------------------------------------------\u001b[0m",
      "\u001b[0;31mIndexError\u001b[0m                                Traceback (most recent call last)",
      "Cell \u001b[0;32mIn[27], line 18\u001b[0m, in \u001b[0;36mVertexWidget.paintEvent\u001b[0;34m(self, event)\u001b[0m\n\u001b[1;32m     15\u001b[0m     painter\u001b[38;5;241m.\u001b[39mdrawEllipse(vertex, \u001b[38;5;241m10\u001b[39m, \u001b[38;5;241m10\u001b[39m)\n\u001b[1;32m     16\u001b[0m \u001b[38;5;66;03m#for vertexnumber in range (len(self.vertices)-1):\u001b[39;00m\n\u001b[1;32m     17\u001b[0m     \u001b[38;5;66;03m#painter.drawLine(self.vertices[vertexnumber], self.vertices[vertexnumber+1])\u001b[39;00m\n\u001b[0;32m---> 18\u001b[0m newlist \u001b[38;5;241m=\u001b[39m \u001b[43mcurvepositions\u001b[49m\u001b[43m(\u001b[49m\u001b[38;5;28;43mself\u001b[39;49m\u001b[38;5;241;43m.\u001b[39;49m\u001b[43mvertices\u001b[49m\u001b[43m)\u001b[49m\n\u001b[1;32m     19\u001b[0m \u001b[38;5;28;01mfor\u001b[39;00m vertexnumber \u001b[38;5;129;01min\u001b[39;00m \u001b[38;5;28mrange\u001b[39m (\u001b[38;5;28mlen\u001b[39m(newlist)\u001b[38;5;241m-\u001b[39m\u001b[38;5;241m1\u001b[39m):\n\u001b[1;32m     20\u001b[0m     painter\u001b[38;5;241m.\u001b[39mdrawLine(newlist[vertexnumber], newlist[vertexnumber\u001b[38;5;241m+\u001b[39m\u001b[38;5;241m1\u001b[39m])\n",
      "Cell \u001b[0;32mIn[26], line 21\u001b[0m, in \u001b[0;36mcurvepositions\u001b[0;34m(Qplist)\u001b[0m\n\u001b[1;32m     19\u001b[0m array \u001b[38;5;241m=\u001b[39m np\u001b[38;5;241m.\u001b[39marray([points])\n\u001b[1;32m     20\u001b[0m \u001b[38;5;28;01mfor\u001b[39;00m i \u001b[38;5;129;01min\u001b[39;00m th:\n\u001b[0;32m---> 21\u001b[0m     newvertex \u001b[38;5;241m=\u001b[39m \u001b[43mcatmull_rom_interpolation\u001b[49m\u001b[43m(\u001b[49m\u001b[43marray\u001b[49m\u001b[43m,\u001b[49m\u001b[43m \u001b[49m\u001b[43m(\u001b[49m\u001b[38;5;241;43m1\u001b[39;49m\u001b[38;5;241;43m-\u001b[39;49m\u001b[43mi\u001b[49m\u001b[43m)\u001b[49m\u001b[43m)\u001b[49m\n\u001b[1;32m     22\u001b[0m     newlist\u001b[38;5;241m.\u001b[39mappend(QPoint(newvertex[\u001b[38;5;241m0\u001b[39m]\u001b[38;5;241m.\u001b[39mastype(\u001b[38;5;28mint\u001b[39m), newvertex[\u001b[38;5;241m1\u001b[39m]\u001b[38;5;241m.\u001b[39mastype(\u001b[38;5;28mint\u001b[39m)))\n\u001b[1;32m     23\u001b[0m \u001b[38;5;28;01mreturn\u001b[39;00m newlist\n",
      "Cell \u001b[0;32mIn[5], line 29\u001b[0m, in \u001b[0;36mcatmull_rom_interpolation\u001b[0;34m(P, t)\u001b[0m\n\u001b[1;32m     22\u001b[0m \u001b[38;5;28;01mdef\u001b[39;00m \u001b[38;5;21mcatmull_rom_interpolation\u001b[39m(P, t):\n\u001b[1;32m     23\u001b[0m \u001b[38;5;250m    \u001b[39m\u001b[38;5;124;03m\"\"\"\u001b[39;00m\n\u001b[1;32m     24\u001b[0m \u001b[38;5;124;03m    P is a set of points, which we assume are corresponded to equally spaced\u001b[39;00m\n\u001b[1;32m     25\u001b[0m \u001b[38;5;124;03m    times between 0 and 1. t is a scalar value between 0 and 1. Return the\u001b[39;00m\n\u001b[1;32m     26\u001b[0m \u001b[38;5;124;03m    value of the catmull-rom interpolation of P at time t. You may use\u001b[39;00m\n\u001b[1;32m     27\u001b[0m \u001b[38;5;124;03m    cubic_hermite.\u001b[39;00m\n\u001b[1;32m     28\u001b[0m \u001b[38;5;124;03m    \"\"\"\u001b[39;00m\n\u001b[0;32m---> 29\u001b[0m     derivatives\u001b[38;5;241m=\u001b[39m\u001b[43mestimate_derivatives_catmull_rom\u001b[49m\u001b[43m(\u001b[49m\u001b[43mP\u001b[49m\u001b[43m)\u001b[49m\n\u001b[1;32m     30\u001b[0m     n \u001b[38;5;241m=\u001b[39m P\u001b[38;5;241m.\u001b[39mshape[\u001b[38;5;241m0\u001b[39m]\u001b[38;5;241m-\u001b[39m\u001b[38;5;241m1\u001b[39m  \u001b[38;5;66;03m# Integer division to get the number of segments    nt=n*t;\u001b[39;00m\n\u001b[1;32m     31\u001b[0m     nt\u001b[38;5;241m=\u001b[39mn\u001b[38;5;241m*\u001b[39mt;\n",
      "Cell \u001b[0;32mIn[5], line 19\u001b[0m, in \u001b[0;36mestimate_derivatives_catmull_rom\u001b[0;34m(P)\u001b[0m\n\u001b[1;32m     17\u001b[0m derivatives \u001b[38;5;241m=\u001b[39m np\u001b[38;5;241m.\u001b[39mzeros_like(P, dtype\u001b[38;5;241m=\u001b[39m\u001b[38;5;28mfloat\u001b[39m)\n\u001b[1;32m     18\u001b[0m derivatives[\u001b[38;5;241m1\u001b[39m:\u001b[38;5;241m-\u001b[39m\u001b[38;5;241m1\u001b[39m] \u001b[38;5;241m=\u001b[39m (P[:\u001b[38;5;241m-\u001b[39m\u001b[38;5;241m2\u001b[39m] \u001b[38;5;241m-\u001b[39m P[\u001b[38;5;241m2\u001b[39m:]) \u001b[38;5;241m/\u001b[39m \u001b[38;5;241m2\u001b[39m\n\u001b[0;32m---> 19\u001b[0m derivatives[\u001b[38;5;241m-\u001b[39m\u001b[38;5;241m1\u001b[39m] \u001b[38;5;241m=\u001b[39m (\u001b[43mP\u001b[49m\u001b[43m[\u001b[49m\u001b[38;5;241;43m-\u001b[39;49m\u001b[38;5;241;43m2\u001b[39;49m\u001b[43m]\u001b[49m\u001b[38;5;241m-\u001b[39mP[\u001b[38;5;241m0\u001b[39m])\u001b[38;5;241m/\u001b[39m\u001b[38;5;241m2\u001b[39m\n\u001b[1;32m     20\u001b[0m derivatives[\u001b[38;5;241m0\u001b[39m] \u001b[38;5;241m=\u001b[39m (P[\u001b[38;5;241m-\u001b[39m\u001b[38;5;241m1\u001b[39m] \u001b[38;5;241m-\u001b[39m P[\u001b[38;5;241m1\u001b[39m])\u001b[38;5;241m/\u001b[39m\u001b[38;5;241m2\u001b[39m\n\u001b[1;32m     21\u001b[0m \u001b[38;5;28;01mreturn\u001b[39;00m derivatives\n",
      "\u001b[0;31mIndexError\u001b[0m: index -2 is out of bounds for axis 0 with size 1"
     ]
    },
    {
     "name": "stderr",
     "output_type": "stream",
     "text": [
      "QBackingStore::endPaint() called with active painter; did you forget to destroy it or call QPainter::end() on it?\n"
     ]
    },
    {
     "ename": "IndexError",
     "evalue": "index -2 is out of bounds for axis 0 with size 1",
     "output_type": "error",
     "traceback": [
      "\u001b[0;31m---------------------------------------------------------------------------\u001b[0m",
      "\u001b[0;31mIndexError\u001b[0m                                Traceback (most recent call last)",
      "Cell \u001b[0;32mIn[27], line 18\u001b[0m, in \u001b[0;36mVertexWidget.paintEvent\u001b[0;34m(self, event)\u001b[0m\n\u001b[1;32m     15\u001b[0m     painter\u001b[38;5;241m.\u001b[39mdrawEllipse(vertex, \u001b[38;5;241m10\u001b[39m, \u001b[38;5;241m10\u001b[39m)\n\u001b[1;32m     16\u001b[0m \u001b[38;5;66;03m#for vertexnumber in range (len(self.vertices)-1):\u001b[39;00m\n\u001b[1;32m     17\u001b[0m     \u001b[38;5;66;03m#painter.drawLine(self.vertices[vertexnumber], self.vertices[vertexnumber+1])\u001b[39;00m\n\u001b[0;32m---> 18\u001b[0m newlist \u001b[38;5;241m=\u001b[39m \u001b[43mcurvepositions\u001b[49m\u001b[43m(\u001b[49m\u001b[38;5;28;43mself\u001b[39;49m\u001b[38;5;241;43m.\u001b[39;49m\u001b[43mvertices\u001b[49m\u001b[43m)\u001b[49m\n\u001b[1;32m     19\u001b[0m \u001b[38;5;28;01mfor\u001b[39;00m vertexnumber \u001b[38;5;129;01min\u001b[39;00m \u001b[38;5;28mrange\u001b[39m (\u001b[38;5;28mlen\u001b[39m(newlist)\u001b[38;5;241m-\u001b[39m\u001b[38;5;241m1\u001b[39m):\n\u001b[1;32m     20\u001b[0m     painter\u001b[38;5;241m.\u001b[39mdrawLine(newlist[vertexnumber], newlist[vertexnumber\u001b[38;5;241m+\u001b[39m\u001b[38;5;241m1\u001b[39m])\n",
      "Cell \u001b[0;32mIn[26], line 21\u001b[0m, in \u001b[0;36mcurvepositions\u001b[0;34m(Qplist)\u001b[0m\n\u001b[1;32m     19\u001b[0m array \u001b[38;5;241m=\u001b[39m np\u001b[38;5;241m.\u001b[39marray([points])\n\u001b[1;32m     20\u001b[0m \u001b[38;5;28;01mfor\u001b[39;00m i \u001b[38;5;129;01min\u001b[39;00m th:\n\u001b[0;32m---> 21\u001b[0m     newvertex \u001b[38;5;241m=\u001b[39m \u001b[43mcatmull_rom_interpolation\u001b[49m\u001b[43m(\u001b[49m\u001b[43marray\u001b[49m\u001b[43m,\u001b[49m\u001b[43m \u001b[49m\u001b[43m(\u001b[49m\u001b[38;5;241;43m1\u001b[39;49m\u001b[38;5;241;43m-\u001b[39;49m\u001b[43mi\u001b[49m\u001b[43m)\u001b[49m\u001b[43m)\u001b[49m\n\u001b[1;32m     22\u001b[0m     newlist\u001b[38;5;241m.\u001b[39mappend(QPoint(newvertex[\u001b[38;5;241m0\u001b[39m]\u001b[38;5;241m.\u001b[39mastype(\u001b[38;5;28mint\u001b[39m), newvertex[\u001b[38;5;241m1\u001b[39m]\u001b[38;5;241m.\u001b[39mastype(\u001b[38;5;28mint\u001b[39m)))\n\u001b[1;32m     23\u001b[0m \u001b[38;5;28;01mreturn\u001b[39;00m newlist\n",
      "Cell \u001b[0;32mIn[5], line 29\u001b[0m, in \u001b[0;36mcatmull_rom_interpolation\u001b[0;34m(P, t)\u001b[0m\n\u001b[1;32m     22\u001b[0m \u001b[38;5;28;01mdef\u001b[39;00m \u001b[38;5;21mcatmull_rom_interpolation\u001b[39m(P, t):\n\u001b[1;32m     23\u001b[0m \u001b[38;5;250m    \u001b[39m\u001b[38;5;124;03m\"\"\"\u001b[39;00m\n\u001b[1;32m     24\u001b[0m \u001b[38;5;124;03m    P is a set of points, which we assume are corresponded to equally spaced\u001b[39;00m\n\u001b[1;32m     25\u001b[0m \u001b[38;5;124;03m    times between 0 and 1. t is a scalar value between 0 and 1. Return the\u001b[39;00m\n\u001b[1;32m     26\u001b[0m \u001b[38;5;124;03m    value of the catmull-rom interpolation of P at time t. You may use\u001b[39;00m\n\u001b[1;32m     27\u001b[0m \u001b[38;5;124;03m    cubic_hermite.\u001b[39;00m\n\u001b[1;32m     28\u001b[0m \u001b[38;5;124;03m    \"\"\"\u001b[39;00m\n\u001b[0;32m---> 29\u001b[0m     derivatives\u001b[38;5;241m=\u001b[39m\u001b[43mestimate_derivatives_catmull_rom\u001b[49m\u001b[43m(\u001b[49m\u001b[43mP\u001b[49m\u001b[43m)\u001b[49m\n\u001b[1;32m     30\u001b[0m     n \u001b[38;5;241m=\u001b[39m P\u001b[38;5;241m.\u001b[39mshape[\u001b[38;5;241m0\u001b[39m]\u001b[38;5;241m-\u001b[39m\u001b[38;5;241m1\u001b[39m  \u001b[38;5;66;03m# Integer division to get the number of segments    nt=n*t;\u001b[39;00m\n\u001b[1;32m     31\u001b[0m     nt\u001b[38;5;241m=\u001b[39mn\u001b[38;5;241m*\u001b[39mt;\n",
      "Cell \u001b[0;32mIn[5], line 19\u001b[0m, in \u001b[0;36mestimate_derivatives_catmull_rom\u001b[0;34m(P)\u001b[0m\n\u001b[1;32m     17\u001b[0m derivatives \u001b[38;5;241m=\u001b[39m np\u001b[38;5;241m.\u001b[39mzeros_like(P, dtype\u001b[38;5;241m=\u001b[39m\u001b[38;5;28mfloat\u001b[39m)\n\u001b[1;32m     18\u001b[0m derivatives[\u001b[38;5;241m1\u001b[39m:\u001b[38;5;241m-\u001b[39m\u001b[38;5;241m1\u001b[39m] \u001b[38;5;241m=\u001b[39m (P[:\u001b[38;5;241m-\u001b[39m\u001b[38;5;241m2\u001b[39m] \u001b[38;5;241m-\u001b[39m P[\u001b[38;5;241m2\u001b[39m:]) \u001b[38;5;241m/\u001b[39m \u001b[38;5;241m2\u001b[39m\n\u001b[0;32m---> 19\u001b[0m derivatives[\u001b[38;5;241m-\u001b[39m\u001b[38;5;241m1\u001b[39m] \u001b[38;5;241m=\u001b[39m (\u001b[43mP\u001b[49m\u001b[43m[\u001b[49m\u001b[38;5;241;43m-\u001b[39;49m\u001b[38;5;241;43m2\u001b[39;49m\u001b[43m]\u001b[49m\u001b[38;5;241m-\u001b[39mP[\u001b[38;5;241m0\u001b[39m])\u001b[38;5;241m/\u001b[39m\u001b[38;5;241m2\u001b[39m\n\u001b[1;32m     20\u001b[0m derivatives[\u001b[38;5;241m0\u001b[39m] \u001b[38;5;241m=\u001b[39m (P[\u001b[38;5;241m-\u001b[39m\u001b[38;5;241m1\u001b[39m] \u001b[38;5;241m-\u001b[39m P[\u001b[38;5;241m1\u001b[39m])\u001b[38;5;241m/\u001b[39m\u001b[38;5;241m2\u001b[39m\n\u001b[1;32m     21\u001b[0m \u001b[38;5;28;01mreturn\u001b[39;00m derivatives\n",
      "\u001b[0;31mIndexError\u001b[0m: index -2 is out of bounds for axis 0 with size 1"
     ]
    },
    {
     "name": "stderr",
     "output_type": "stream",
     "text": [
      "QBackingStore::endPaint() called with active painter; did you forget to destroy it or call QPainter::end() on it?\n"
     ]
    },
    {
     "ename": "IndexError",
     "evalue": "index -2 is out of bounds for axis 0 with size 1",
     "output_type": "error",
     "traceback": [
      "\u001b[0;31m---------------------------------------------------------------------------\u001b[0m",
      "\u001b[0;31mIndexError\u001b[0m                                Traceback (most recent call last)",
      "Cell \u001b[0;32mIn[27], line 18\u001b[0m, in \u001b[0;36mVertexWidget.paintEvent\u001b[0;34m(self, event)\u001b[0m\n\u001b[1;32m     15\u001b[0m     painter\u001b[38;5;241m.\u001b[39mdrawEllipse(vertex, \u001b[38;5;241m10\u001b[39m, \u001b[38;5;241m10\u001b[39m)\n\u001b[1;32m     16\u001b[0m \u001b[38;5;66;03m#for vertexnumber in range (len(self.vertices)-1):\u001b[39;00m\n\u001b[1;32m     17\u001b[0m     \u001b[38;5;66;03m#painter.drawLine(self.vertices[vertexnumber], self.vertices[vertexnumber+1])\u001b[39;00m\n\u001b[0;32m---> 18\u001b[0m newlist \u001b[38;5;241m=\u001b[39m \u001b[43mcurvepositions\u001b[49m\u001b[43m(\u001b[49m\u001b[38;5;28;43mself\u001b[39;49m\u001b[38;5;241;43m.\u001b[39;49m\u001b[43mvertices\u001b[49m\u001b[43m)\u001b[49m\n\u001b[1;32m     19\u001b[0m \u001b[38;5;28;01mfor\u001b[39;00m vertexnumber \u001b[38;5;129;01min\u001b[39;00m \u001b[38;5;28mrange\u001b[39m (\u001b[38;5;28mlen\u001b[39m(newlist)\u001b[38;5;241m-\u001b[39m\u001b[38;5;241m1\u001b[39m):\n\u001b[1;32m     20\u001b[0m     painter\u001b[38;5;241m.\u001b[39mdrawLine(newlist[vertexnumber], newlist[vertexnumber\u001b[38;5;241m+\u001b[39m\u001b[38;5;241m1\u001b[39m])\n",
      "Cell \u001b[0;32mIn[26], line 21\u001b[0m, in \u001b[0;36mcurvepositions\u001b[0;34m(Qplist)\u001b[0m\n\u001b[1;32m     19\u001b[0m array \u001b[38;5;241m=\u001b[39m np\u001b[38;5;241m.\u001b[39marray([points])\n\u001b[1;32m     20\u001b[0m \u001b[38;5;28;01mfor\u001b[39;00m i \u001b[38;5;129;01min\u001b[39;00m th:\n\u001b[0;32m---> 21\u001b[0m     newvertex \u001b[38;5;241m=\u001b[39m \u001b[43mcatmull_rom_interpolation\u001b[49m\u001b[43m(\u001b[49m\u001b[43marray\u001b[49m\u001b[43m,\u001b[49m\u001b[43m \u001b[49m\u001b[43m(\u001b[49m\u001b[38;5;241;43m1\u001b[39;49m\u001b[38;5;241;43m-\u001b[39;49m\u001b[43mi\u001b[49m\u001b[43m)\u001b[49m\u001b[43m)\u001b[49m\n\u001b[1;32m     22\u001b[0m     newlist\u001b[38;5;241m.\u001b[39mappend(QPoint(newvertex[\u001b[38;5;241m0\u001b[39m]\u001b[38;5;241m.\u001b[39mastype(\u001b[38;5;28mint\u001b[39m), newvertex[\u001b[38;5;241m1\u001b[39m]\u001b[38;5;241m.\u001b[39mastype(\u001b[38;5;28mint\u001b[39m)))\n\u001b[1;32m     23\u001b[0m \u001b[38;5;28;01mreturn\u001b[39;00m newlist\n",
      "Cell \u001b[0;32mIn[5], line 29\u001b[0m, in \u001b[0;36mcatmull_rom_interpolation\u001b[0;34m(P, t)\u001b[0m\n\u001b[1;32m     22\u001b[0m \u001b[38;5;28;01mdef\u001b[39;00m \u001b[38;5;21mcatmull_rom_interpolation\u001b[39m(P, t):\n\u001b[1;32m     23\u001b[0m \u001b[38;5;250m    \u001b[39m\u001b[38;5;124;03m\"\"\"\u001b[39;00m\n\u001b[1;32m     24\u001b[0m \u001b[38;5;124;03m    P is a set of points, which we assume are corresponded to equally spaced\u001b[39;00m\n\u001b[1;32m     25\u001b[0m \u001b[38;5;124;03m    times between 0 and 1. t is a scalar value between 0 and 1. Return the\u001b[39;00m\n\u001b[1;32m     26\u001b[0m \u001b[38;5;124;03m    value of the catmull-rom interpolation of P at time t. You may use\u001b[39;00m\n\u001b[1;32m     27\u001b[0m \u001b[38;5;124;03m    cubic_hermite.\u001b[39;00m\n\u001b[1;32m     28\u001b[0m \u001b[38;5;124;03m    \"\"\"\u001b[39;00m\n\u001b[0;32m---> 29\u001b[0m     derivatives\u001b[38;5;241m=\u001b[39m\u001b[43mestimate_derivatives_catmull_rom\u001b[49m\u001b[43m(\u001b[49m\u001b[43mP\u001b[49m\u001b[43m)\u001b[49m\n\u001b[1;32m     30\u001b[0m     n \u001b[38;5;241m=\u001b[39m P\u001b[38;5;241m.\u001b[39mshape[\u001b[38;5;241m0\u001b[39m]\u001b[38;5;241m-\u001b[39m\u001b[38;5;241m1\u001b[39m  \u001b[38;5;66;03m# Integer division to get the number of segments    nt=n*t;\u001b[39;00m\n\u001b[1;32m     31\u001b[0m     nt\u001b[38;5;241m=\u001b[39mn\u001b[38;5;241m*\u001b[39mt;\n",
      "Cell \u001b[0;32mIn[5], line 19\u001b[0m, in \u001b[0;36mestimate_derivatives_catmull_rom\u001b[0;34m(P)\u001b[0m\n\u001b[1;32m     17\u001b[0m derivatives \u001b[38;5;241m=\u001b[39m np\u001b[38;5;241m.\u001b[39mzeros_like(P, dtype\u001b[38;5;241m=\u001b[39m\u001b[38;5;28mfloat\u001b[39m)\n\u001b[1;32m     18\u001b[0m derivatives[\u001b[38;5;241m1\u001b[39m:\u001b[38;5;241m-\u001b[39m\u001b[38;5;241m1\u001b[39m] \u001b[38;5;241m=\u001b[39m (P[:\u001b[38;5;241m-\u001b[39m\u001b[38;5;241m2\u001b[39m] \u001b[38;5;241m-\u001b[39m P[\u001b[38;5;241m2\u001b[39m:]) \u001b[38;5;241m/\u001b[39m \u001b[38;5;241m2\u001b[39m\n\u001b[0;32m---> 19\u001b[0m derivatives[\u001b[38;5;241m-\u001b[39m\u001b[38;5;241m1\u001b[39m] \u001b[38;5;241m=\u001b[39m (\u001b[43mP\u001b[49m\u001b[43m[\u001b[49m\u001b[38;5;241;43m-\u001b[39;49m\u001b[38;5;241;43m2\u001b[39;49m\u001b[43m]\u001b[49m\u001b[38;5;241m-\u001b[39mP[\u001b[38;5;241m0\u001b[39m])\u001b[38;5;241m/\u001b[39m\u001b[38;5;241m2\u001b[39m\n\u001b[1;32m     20\u001b[0m derivatives[\u001b[38;5;241m0\u001b[39m] \u001b[38;5;241m=\u001b[39m (P[\u001b[38;5;241m-\u001b[39m\u001b[38;5;241m1\u001b[39m] \u001b[38;5;241m-\u001b[39m P[\u001b[38;5;241m1\u001b[39m])\u001b[38;5;241m/\u001b[39m\u001b[38;5;241m2\u001b[39m\n\u001b[1;32m     21\u001b[0m \u001b[38;5;28;01mreturn\u001b[39;00m derivatives\n",
      "\u001b[0;31mIndexError\u001b[0m: index -2 is out of bounds for axis 0 with size 1"
     ]
    },
    {
     "name": "stderr",
     "output_type": "stream",
     "text": [
      "QBackingStore::endPaint() called with active painter; did you forget to destroy it or call QPainter::end() on it?\n"
     ]
    }
   ],
   "source": [
    "\n",
    "\n",
    "class VertexWidget(QWidget):\n",
    "    def __init__(self):\n",
    "        super().__init__()\n",
    "        self.vertices = [QPoint(0, 0), QPoint(0, 100)]\n",
    "        self.selected_vertex_index = None\n",
    "        self.setWindowTitle(\"Vertex Mover\")\n",
    "        self.setGeometry(100, 100, 400, 300)\n",
    "        self.show()\n",
    "    def paintEvent(self, event):\n",
    "        painter = QPainter(self)\n",
    "        painter.setRenderHint(QPainter.Antialiasing)\n",
    "        painter.setPen(QPen(Qt.black, 2))\n",
    "        painter.setBrush(QBrush(Qt.blue, Qt.SolidPattern))\n",
    "        for vertex in self.vertices:\n",
    "            painter.drawEllipse(vertex, 10, 10)\n",
    "        #for vertexnumber in range (len(self.vertices)-1):\n",
    "            #painter.drawLine(self.vertices[vertexnumber], self.vertices[vertexnumber+1])\n",
    "        newlist = curvepositions(self.vertices)\n",
    "        for vertexnumber in range (len(newlist)-1):\n",
    "            painter.drawLine(newlist[vertexnumber], newlist[vertexnumber+1])\n",
    "    def mousePressEvent(self, event):\n",
    "        for index, vertex in enumerate(self.vertices):\n",
    "            if (event.pos() - vertex).manhattanLength() < 10:\n",
    "                self.selected_vertex_index = index\n",
    "                break\n",
    "        if event.button() == Qt.MouseButton.RightButton:\n",
    "            print('Hello')\n",
    "            self.vertices.append(event.pos())\n",
    "            self.update()\n",
    "    def keyPressEvent(self, event):\n",
    "        key = event.key()\n",
    "        if key == Qt.Key_Space:\n",
    "            print('space')\n",
    "            self.vertices = self.vertices[:-1]\n",
    "            self.update()\n",
    "    def mouseMoveEvent(self, event):\n",
    "        if self.selected_vertex_index is not None:\n",
    "            self.vertices[self.selected_vertex_index] = event.pos()\n",
    "            self.update()\n",
    "    def mouseReleaseEvent(self, event):\n",
    "        self.selected_vertex_index = None\n",
    "def run_app():\n",
    "    app = QApplication.instance()\n",
    "    if app is None:\n",
    "        app = QApplication(sys.argv)\n",
    "    widget = VertexWidget()\n",
    "    app.exec_()\n",
    "\n",
    "\n",
    "\n",
    "\n",
    "# Use the '%matplotlib qt' magic to enable the Qt event loop integration\n",
    "get_ipython().run_line_magic('matplotlib', 'qt')\n",
    "# Run the app\n",
    "run_app()"
   ]
  },
  {
   "cell_type": "code",
   "execution_count": null,
   "metadata": {},
   "outputs": [],
   "source": []
  }
 ],
 "metadata": {
  "kernelspec": {
   "display_name": "Python 3 (ipykernel)",
   "language": "python",
   "name": "python3"
  },
  "language_info": {
   "codemirror_mode": {
    "name": "ipython",
    "version": 3
   },
   "file_extension": ".py",
   "mimetype": "text/x-python",
   "name": "python",
   "nbconvert_exporter": "python",
   "pygments_lexer": "ipython3",
   "version": "3.12.4"
  }
 },
 "nbformat": 4,
 "nbformat_minor": 4
}
