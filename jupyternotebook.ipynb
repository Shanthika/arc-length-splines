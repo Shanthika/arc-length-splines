{
 "cells": [
  {
   "cell_type": "code",
   "execution_count": 1,
   "metadata": {},
   "outputs": [
    {
     "name": "stdout",
     "output_type": "stream",
     "text": [
      "Requirement already satisfied: PyQt5 in c:\\python311\\lib\\site-packages (5.15.10)\n",
      "Requirement already satisfied: PyQt5-sip<13,>=12.13 in c:\\python311\\lib\\site-packages (from PyQt5) (12.15.0)\n",
      "Requirement already satisfied: PyQt5-Qt5>=5.15.2 in c:\\python311\\lib\\site-packages (from PyQt5) (5.15.2)\n"
     ]
    },
    {
     "name": "stderr",
     "output_type": "stream",
     "text": [
      "\n",
      "[notice] A new release of pip is available: 24.0 -> 24.1.2\n",
      "[notice] To update, run: python.exe -m pip install --upgrade pip\n"
     ]
    }
   ],
   "source": [
    "!pip install PyQt5"
   ]
  },
  {
   "cell_type": "code",
   "execution_count": 4,
   "metadata": {},
   "outputs": [],
   "source": [
    "import numpy as np\n",
    "import sys\n",
    "from PyQt5.QtWidgets import QApplication, QWidget\n",
    "from PyQt5.QtGui import QPainter, QPen, QBrush\n",
    "from PyQt5.QtCore import Qt, QPoint\n",
    "from IPython import get_ipython"
   ]
  },
  {
   "cell_type": "code",
   "execution_count": 5,
   "metadata": {},
   "outputs": [],
   "source": [
    "def cubic_hermite(P0, P1, M0, M1, t):\n",
    "    \"\"\"\n",
    "    Given a pair of points and a pair of vectors, compute the cubic Hermite\n",
    "    polynomial they define and evaluate it at time t.\n",
    "    \"\"\"\n",
    "    h00 = 2*t**3 - 3*t**2 + 1\n",
    "    h10 = t**3 - 2*t**2 + t\n",
    "    h01 = -2*t**3 + 3*t**2\n",
    "    h11 = t**3 - t**2\n",
    "    return h00 * P0 + h10 * M0 + h01 * P1 + h11 * M1\n",
    "def estimate_derivatives_catmull_rom(P):\n",
    "    \"\"\"\n",
    "    Assuming P are the points of a closed curve, use the Catmull-Rom\n",
    "    technique to estimate the derivative at each point of P by looking at its\n",
    "    neighbors.\n",
    "    \"\"\"\n",
    "    derivatives = np.zeros_like(P, dtype=float)\n",
    "    derivatives[1:-1] = (P[:-2] - P[2:]) / 2\n",
    "    derivatives[-1] = (P[-2]-P[0])/2\n",
    "    derivatives[0] = (P[-1] - P[1])/2\n",
    "    derivatives*=-1\n",
    "    return derivatives\n",
    "def catmull_rom_interpolation(P, t):\n",
    "    \"\"\"\n",
    "    P is a set of points, which we assume are corresponded to equally spaced\n",
    "    times between 0 and 1. t is a scalar value between 0 and 1. Return the\n",
    "    value of the catmull-rom interpolation of P at time t. You may use\n",
    "    cubic_hermite.\n",
    "    \"\"\"\n",
    "    derivatives=estimate_derivatives_catmull_rom(P)\n",
    "    n = P.shape[0]-1  # Integer division to get the number of segments    nt=n*t;\n",
    "    nt=n*t;\n",
    "    nt,seg=np.modf(nt)\n",
    "    seg=seg.astype(int)\n",
    "    # p0=P[seg-1]\n",
    "    # p1=P[seg]\n",
    "    # m0=derivatives[seg-1]\n",
    "    # m1=derivatives[seg]\n",
    "    if seg == 0:\n",
    "        p0 = P[0]  # First point, can't go back further\n",
    "        m0 = derivatives[0]  # First derivative\n",
    "    else:\n",
    "        p0 = P[seg-1]\n",
    "        m0 = derivatives[seg-1]\n",
    "\n",
    "    if seg >= len(P) - 1:\n",
    "        p1 = P[-1]  # Last point, can't go forward further\n",
    "        m1 = derivatives[-1]  # Last derivative\n",
    "    else:\n",
    "        p1 = P[seg]\n",
    "        m1 = derivatives[seg]\n",
    "    return cubic_hermite(p0,p1,m0,m1,nt);\n",
    "    pass\n"
   ]
  },
  {
   "cell_type": "code",
   "execution_count": 6,
   "metadata": {},
   "outputs": [],
   "source": [
    "\n",
    "\"\"\"randompoints = np.array([[25,25],\n",
    "                        [25,100],\n",
    "                        [45, 125]])\n",
    "newlist = []\n",
    "\n",
    "for i in th:\n",
    "    #print(catmull_rom_interpolation(randompoints, (1-i)))\n",
    "    newvertex = catmull_rom_interpolation(randompoints, (1-i))\n",
    "    newlist.append(QPoint(newvertex[0].astype(int), newvertex[1].astype(int)))\"\"\"\n",
    "    \n",
    "\n",
    "def curvepositions(Qplist):\n",
    "    points = []\n",
    "    #points = np.empty((0,2), dtype=int)\n",
    "    newlist = []\n",
    "    th = np.linspace(0, 1, 1000)\n",
    "    for i in Qplist:\n",
    "        points.append([i.x(), i.y()])\n",
    "    array = np.array((points))\n",
    "    for i in th:\n",
    "        newvertex = catmull_rom_interpolation(array, (1-i))\n",
    "        newlist.append(QPoint(newvertex[0].astype(int), newvertex[1].astype(int)))\n",
    "    return newlist\n"
   ]
  },
  {
   "cell_type": "code",
   "execution_count": 7,
   "metadata": {},
   "outputs": [
    {
     "name": "stdout",
     "output_type": "stream",
     "text": [
      "Hello\n",
      "Hello\n",
      "Hello\n",
      "Hello\n",
      "Hello\n",
      "Hello\n"
     ]
    }
   ],
   "source": [
    "\n",
    "\n",
    "class VertexWidget(QWidget):\n",
    "    def __init__(self):\n",
    "        super().__init__()\n",
    "        self.vertices = [QPoint(20, 20), QPoint(40, 100)]\n",
    "        self.selected_vertex_index = None\n",
    "        self.setWindowTitle(\"Vertex Mover\")\n",
    "        self.setGeometry(100, 100, 400, 300)\n",
    "        self.show()\n",
    "    def paintEvent(self, event):\n",
    "        painter = QPainter(self)\n",
    "        painter.setRenderHint(QPainter.Antialiasing)\n",
    "        painter.setPen(QPen(Qt.black, 2))\n",
    "        painter.setBrush(QBrush(Qt.blue, Qt.SolidPattern))\n",
    "        for vertex in self.vertices:\n",
    "            painter.drawEllipse(vertex, 10, 10)\n",
    "        #for vertexnumber in range (len(self.vertices)-1):\n",
    "            #painter.drawLine(self.vertices[vertexnumber], self.vertices[vertexnumber+1])\n",
    "        newlist = curvepositions(self.vertices)\n",
    "        for vertexnumber in range (len(newlist)-1):\n",
    "            painter.drawLine(newlist[vertexnumber], newlist[vertexnumber+1])\n",
    "    def mousePressEvent(self, event):\n",
    "        for index, vertex in enumerate(self.vertices):\n",
    "            if (event.pos() - vertex).manhattanLength() < 10:\n",
    "                self.selected_vertex_index = index\n",
    "                break\n",
    "        if event.button() == Qt.MouseButton.RightButton:\n",
    "            print('Hello')\n",
    "            self.vertices.append(event.pos())\n",
    "            self.update()\n",
    "    def keyPressEvent(self, event):\n",
    "        key = event.key()\n",
    "        if key == Qt.Key_Space:\n",
    "            print('space')\n",
    "            self.vertices = self.vertices[:-1]\n",
    "            self.update()\n",
    "    def mouseMoveEvent(self, event):\n",
    "        if self.selected_vertex_index is not None:\n",
    "            self.vertices[self.selected_vertex_index] = event.pos()\n",
    "            self.update()\n",
    "    def mouseReleaseEvent(self, event):\n",
    "        self.selected_vertex_index = None\n",
    "def run_app():\n",
    "    app = QApplication.instance()\n",
    "    if app is None:\n",
    "        app = QApplication(sys.argv)\n",
    "    widget = VertexWidget()\n",
    "    app.exec_()\n",
    "\n",
    "\n",
    "\n",
    "\n",
    "# Use the '%matplotlib qt' magic to enable the Qt event loop integration\n",
    "get_ipython().run_line_magic('matplotlib', 'qt')\n",
    "# Run the app\n",
    "run_app()"
   ]
  },
  {
   "cell_type": "code",
   "execution_count": null,
   "metadata": {},
   "outputs": [],
   "source": []
  },
  {
   "cell_type": "code",
   "execution_count": null,
   "metadata": {},
   "outputs": [],
   "source": []
  }
 ],
 "metadata": {
  "kernelspec": {
   "display_name": "Python 3 (ipykernel)",
   "language": "python",
   "name": "python3"
  },
  "language_info": {
   "codemirror_mode": {
    "name": "ipython",
    "version": 3
   },
   "file_extension": ".py",
   "mimetype": "text/x-python",
   "name": "python",
   "nbconvert_exporter": "python",
   "pygments_lexer": "ipython3",
   "version": "3.11.5"
  }
 },
 "nbformat": 4,
 "nbformat_minor": 4
}
