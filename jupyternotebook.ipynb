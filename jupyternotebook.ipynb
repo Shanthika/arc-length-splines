{
 "cells": [
  {
   "cell_type": "code",
   "execution_count": 28,
   "metadata": {},
   "outputs": [
    {
     "name": "stdout",
     "output_type": "stream",
     "text": [
      "Requirement already satisfied: pyqtgraph in /Library/Frameworks/Python.framework/Versions/3.12/lib/python3.12/site-packages (0.13.7)\n",
      "Requirement already satisfied: numpy>=1.22.0 in /Library/Frameworks/Python.framework/Versions/3.12/lib/python3.12/site-packages (from pyqtgraph) (1.26.4)\n",
      "Requirement already satisfied: PySide6 in /Library/Frameworks/Python.framework/Versions/3.12/lib/python3.12/site-packages (6.7.2)\n",
      "Requirement already satisfied: shiboken6==6.7.2 in /Library/Frameworks/Python.framework/Versions/3.12/lib/python3.12/site-packages (from PySide6) (6.7.2)\n",
      "Requirement already satisfied: PySide6-Essentials==6.7.2 in /Library/Frameworks/Python.framework/Versions/3.12/lib/python3.12/site-packages (from PySide6) (6.7.2)\n",
      "Requirement already satisfied: PySide6-Addons==6.7.2 in /Library/Frameworks/Python.framework/Versions/3.12/lib/python3.12/site-packages (from PySide6) (6.7.2)\n",
      "Requirement already satisfied: PyQt6 in /Library/Frameworks/Python.framework/Versions/3.12/lib/python3.12/site-packages (6.7.0)\n",
      "Requirement already satisfied: PyQt6-sip<14,>=13.6 in /Library/Frameworks/Python.framework/Versions/3.12/lib/python3.12/site-packages (from PyQt6) (13.8.0)\n",
      "Requirement already satisfied: PyQt6-Qt6<6.8.0,>=6.7.0 in /Library/Frameworks/Python.framework/Versions/3.12/lib/python3.12/site-packages (from PyQt6) (6.7.2)\n",
      "Collecting PyQt5\n",
      "  Downloading PyQt5-5.15.10-cp37-abi3-macosx_10_13_x86_64.whl.metadata (2.1 kB)\n",
      "Collecting PyQt5-sip<13,>=12.13 (from PyQt5)\n",
      "  Downloading PyQt5_sip-12.15.0-cp312-cp312-macosx_10_9_universal2.whl.metadata (421 bytes)\n",
      "Collecting PyQt5-Qt5>=5.15.2 (from PyQt5)\n",
      "  Downloading PyQt5_Qt5-5.15.14-py3-none-macosx_10_13_x86_64.whl.metadata (536 bytes)\n",
      "Downloading PyQt5-5.15.10-cp37-abi3-macosx_10_13_x86_64.whl (7.0 MB)\n",
      "\u001b[2K   \u001b[90m━━━━━━━━━━━━━━━━━━━━━━━━━━━━━━━━━━━━━━━━\u001b[0m \u001b[32m7.0/7.0 MB\u001b[0m \u001b[31m17.7 MB/s\u001b[0m eta \u001b[36m0:00:00\u001b[0m00:01\u001b[0m00:01\u001b[0m\n",
      "\u001b[?25hDownloading PyQt5_Qt5-5.15.14-py3-none-macosx_10_13_x86_64.whl (38.8 MB)\n",
      "\u001b[2K   \u001b[90m━━━━━━━━━━━━━━━━━━━━━━━━━━━━━━━━━━━━━━━━\u001b[0m \u001b[32m38.8/38.8 MB\u001b[0m \u001b[31m31.3 MB/s\u001b[0m eta \u001b[36m0:00:00\u001b[0m00:01\u001b[0m00:01\u001b[0m\n",
      "\u001b[?25hDownloading PyQt5_sip-12.15.0-cp312-cp312-macosx_10_9_universal2.whl (124 kB)\n",
      "\u001b[2K   \u001b[90m━━━━━━━━━━━━━━━━━━━━━━━━━━━━━━━━━━━━━━━━\u001b[0m \u001b[32m124.3/124.3 kB\u001b[0m \u001b[31m4.5 MB/s\u001b[0m eta \u001b[36m0:00:00\u001b[0m\n",
      "\u001b[?25hInstalling collected packages: PyQt5-Qt5, PyQt5-sip, PyQt5\n",
      "Successfully installed PyQt5-5.15.10 PyQt5-Qt5-5.15.14 PyQt5-sip-12.15.0\n"
     ]
    }
   ],
   "source": [
    "!pip install pyqtgraph\n",
    "!pip install PySide6\n",
    "!pip install PyQt6\n",
    "!pip install PyQt5"
   ]
  },
  {
   "cell_type": "code",
   "execution_count": 3,
   "metadata": {},
   "outputs": [
    {
     "data": {
      "text/plain": [
       "0"
      ]
     },
     "execution_count": 3,
     "metadata": {},
     "output_type": "execute_result"
    }
   ],
   "source": [
    "import pyqtgraph as pg\n",
    "from pyqtgraph.Qt import QtCore, QtGui\n",
    "import numpy as np\n",
    "\n",
    "# Show a picture .\n",
    "# Left mouse click to draw scatter dots on the picture. Hold down the left mouse button and drag to move the screen.\n",
    "# Hold down the right mouse button to select a scatter point and drag the scatter point to the release position.\n",
    "# The current coordinates are displayed when the mouse moves.\n",
    "# Mouse wheel zooms in or out, screen.\n",
    "\n",
    "class MovableScatterPlotItem(pg.ScatterPlotItem):\n",
    "    def __init__(self, *args, imageSizeXy, **kargs):\n",
    "        super().__init__(*args, **kargs)\n",
    "        self.target = pg.TargetItem()\n",
    "        self.target.setParentItem(self)\n",
    "        self.target.sigPositionChanged.connect(self.targetMoved)\n",
    "        self.target.hide()\n",
    "        self.selectedPoint = None\n",
    "        self.coordinateLabel = pg.TextItem()\n",
    "        self.coordinateLabel.setParentItem(self.target)\n",
    "        self.coordinateLabel.setAnchor((0, 1))\n",
    "        self.imageSizeXy = imageSizeXy\n",
    "\n",
    "    def boundingRect(self):\n",
    "        return QtCore.QRectF(0, 0, *self.imageSizeXy)\n",
    "\n",
    "    def targetMoved(self, target):\n",
    "        if self.target.isVisible() and self.selectedPoint is not None:\n",
    "            self.data[[\"x\", \"y\"]][self.selectedPoint.index()] = tuple(target.pos())\n",
    "            self.updateSpots()\n",
    "            self.invalidate()\n",
    "            label = f\"{tuple(map(lambda el: round(el, 2), target.pos()))}\"\n",
    "            self.coordinateLabel.setHtml(\"<div style='color: red; background: black;'>%s</div>\" % label)\n",
    "\n",
    "    def mouseClickEvent(self, ev):\n",
    "        if ev.button() == QtCore.Qt.MouseButton.RightButton:\n",
    "            points = self.pointsAt(ev.pos())\n",
    "            if len(points):\n",
    "                self.target.setPos(ev.pos())\n",
    "                self.selectedPoint = points[-1]\n",
    "                self.target.show()\n",
    "                ev.accept()\n",
    "        elif ev.button() == QtCore.Qt.MouseButton.LeftButton:\n",
    "            if self.target.isVisible():\n",
    "                self.target.hide()\n",
    "            else:\n",
    "                newData = np.r_[np.c_[self.getData()], np.atleast_2d(ev.pos())]\n",
    "                self.setData(*newData.T)\n",
    "            ev.accept()\n",
    "        else:\n",
    "            super().mouseClickEvent(ev)\n",
    "\n",
    "pg.mkQApp()\n",
    "plot = pg.PlotWidget()\n",
    "imageItem = pg.ImageItem(np.random.randint(256, size=(512, 512)))\n",
    "#plot.addItem(imageItem)\n",
    "scatter = MovableScatterPlotItem(imageSizeXy=imageItem.image.shape[:2][::-1], pen=\"w\", brush=\"r\", size=12)\n",
    "# Init 3 random points across the image\n",
    "randomPoints = np.random.randint(512, size=(2, 3))\n",
    "scatter.setData(*randomPoints)\n",
    "plot.addItem(scatter)\n",
    "plot.show()\n",
    "pg.exec()"
   ]
  },
  {
   "cell_type": "code",
   "execution_count": 2,
   "metadata": {},
   "outputs": [],
   "source": [
    "import sys\n",
    "from PyQt5.QtWidgets import QApplication, QWidget\n",
    "from PyQt5.QtGui import QPainter, QPen, QBrush\n",
    "from PyQt5.QtCore import Qt, QPoint\n",
    "from IPython import get_ipython\n",
    "class VertexWidget(QWidget):\n",
    "    def __init__(self):\n",
    "        super().__init__()\n",
    "        self.vertices = [QPoint(50, 50), QPoint(150, 50), QPoint(100, 150)]\n",
    "        self.selected_vertex_index = None\n",
    "        self.setWindowTitle(\"Vertex Mover\")\n",
    "        self.setGeometry(100, 100, 400, 300)\n",
    "        self.show()\n",
    "    def paintEvent(self, event):\n",
    "        painter = QPainter(self)\n",
    "        painter.setRenderHint(QPainter.Antialiasing)\n",
    "        painter.setPen(QPen(Qt.black, 2))\n",
    "        painter.setBrush(QBrush(Qt.blue, Qt.SolidPattern))\n",
    "        for vertex in self.vertices:\n",
    "            painter.drawEllipse(vertex, 10, 10)\n",
    "    def mousePressEvent(self, event):\n",
    "        for index, vertex in enumerate(self.vertices):\n",
    "            if (event.pos() - vertex).manhattanLength() < 10:\n",
    "                self.selected_vertex_index = index\n",
    "                break\n",
    "    def mouseMoveEvent(self, event):\n",
    "        if self.selected_vertex_index is not None:\n",
    "            self.vertices[self.selected_vertex_index] = event.pos()\n",
    "            self.update()\n",
    "    def mouseReleaseEvent(self, event):\n",
    "        self.selected_vertex_index = None\n",
    "def run_app():\n",
    "    app = QApplication.instance()\n",
    "    if app is None:\n",
    "        app = QApplication(sys.argv)\n",
    "    widget = VertexWidget()\n",
    "    app.exec_()\n",
    "# Use the '%matplotlib qt' magic to enable the Qt event loop integration\n",
    "get_ipython().run_line_magic('matplotlib', 'qt')\n",
    "# Run the app\n",
    "run_app()"
   ]
  },
  {
   "cell_type": "code",
   "execution_count": null,
   "metadata": {},
   "outputs": [],
   "source": []
  }
 ],
 "metadata": {
  "kernelspec": {
   "display_name": "Python 3 (ipykernel)",
   "language": "python",
   "name": "python3"
  },
  "language_info": {
   "codemirror_mode": {
    "name": "ipython",
    "version": 3
   },
   "file_extension": ".py",
   "mimetype": "text/x-python",
   "name": "python",
   "nbconvert_exporter": "python",
   "pygments_lexer": "ipython3",
   "version": "3.12.4"
  }
 },
 "nbformat": 4,
 "nbformat_minor": 4
}
